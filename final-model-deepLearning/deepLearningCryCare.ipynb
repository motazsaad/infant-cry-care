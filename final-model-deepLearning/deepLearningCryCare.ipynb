{
  "cells": [
    {
      "cell_type": "markdown",
      "metadata": {
        "id": "view-in-github",
        "colab_type": "text"
      },
      "source": [
        "<a href=\"https://colab.research.google.com/github/motazsaad/infant-cry-care/blob/main/deepLearning/deepLearningCryCare.ipynb\" target=\"_parent\"><img src=\"https://colab.research.google.com/assets/colab-badge.svg\" alt=\"Open In Colab\"/></a>"
      ]
    },
    {
      "cell_type": "code",
      "execution_count": null,
      "metadata": {
        "colab": {
          "base_uri": "https://localhost:8080/"
        },
        "id": "BmyhYXNNh8Ez",
        "outputId": "e443875a-05e2-40ea-a494-bc5f60032976"
      },
      "outputs": [
        {
          "output_type": "stream",
          "name": "stdout",
          "text": [
            "Mounted at /content/drive\n"
          ]
        }
      ],
      "source": [
        "from google.colab import drive\n",
        "drive.mount('/content/drive')"
      ]
    },
    {
      "cell_type": "code",
      "execution_count": null,
      "metadata": {
        "id": "HcFWRT6aiZXR"
      },
      "outputs": [],
      "source": [
        "from google.colab import auth\n",
        "auth.authenticate_user()\n",
        "import gspread\n",
        "from oauth2client.client import GoogleCredentials as GC\n",
        "gc = gspread.authorize(GC.get_application_default())\n",
        "title = 'CryCareSheet'\n",
        "spreedSheet = gc.open(title)\n",
        "audioContSheet = spreedSheet.sheet1"
      ]
    },
    {
      "cell_type": "code",
      "execution_count": null,
      "metadata": {
        "colab": {
          "base_uri": "https://localhost:8080/"
        },
        "id": "N14sYfRuqmqU",
        "outputId": "1fdb338d-bd4c-495d-acdf-96df2820b47e"
      },
      "outputs": [
        {
          "name": "stdout",
          "output_type": "stream",
          "text": [
            "Collecting split-folders\n",
            "  Downloading split_folders-0.4.3-py3-none-any.whl (7.4 kB)\n",
            "Installing collected packages: split-folders\n",
            "Successfully installed split-folders-0.4.3\n"
          ]
        }
      ],
      "source": [
        "!pip install split-folders"
      ]
    },
    {
      "cell_type": "code",
      "execution_count": null,
      "metadata": {
        "id": "DkR_XKgYieR1"
      },
      "outputs": [],
      "source": [
        "import glob\n",
        "import subprocess\n",
        "import os\n",
        "import pandas as pd\n",
        "import librosa \n",
        "import numpy as np\n",
        "from sklearn.ensemble import RandomForestClassifier\n",
        "from sklearn.linear_model import LogisticRegression\n",
        "from sklearn.tree import DecisionTreeClassifier\n",
        "from sklearn.svm import SVC\n",
        "from sklearn.metrics import accuracy_score, classification_report\n",
        "from sklearn.metrics import confusion_matrix, precision_score, recall_score\n",
        "from sklearn.metrics import classification_report\n",
        "from sklearn.model_selection import train_test_split\n",
        "from gspread_dataframe import set_with_dataframe\n",
        "import IPython.display as ipd\n",
        "import tensorflow as tf\n",
        "import pickle\n",
        "import numpy as np\n",
        "from keras.preprocessing import image\n",
        "import cv2\n",
        "from keras.preprocessing.image import ImageDataGenerator\n",
        "import matplotlib.pyplot as plt\n",
        "\n",
        "from keras.callbacks import EarlyStopping\n",
        "\n",
        "mainPath = '/content/drive/MyDrive/CryCareDataset/'\n",
        "exp4Path = mainPath + 'generatedData/Exp4/'\n",
        "\n",
        "directories = ['Hungry', 'lower gas', 'burp up', 'normal','pain','asphyxia', 'Uncomfortable', 'Sleepy'] "
      ]
    },
    {
      "cell_type": "code",
      "execution_count": null,
      "metadata": {
        "colab": {
          "base_uri": "https://localhost:8080/"
        },
        "id": "U962E-P_6mXN",
        "outputId": "f589c47c-2c0a-465f-b5f1-6c16662e213d"
      },
      "outputs": [
        {
          "name": "stderr",
          "output_type": "stream",
          "text": [
            "Copying files: 7820 files [03:26, 37.93 files/s]\n"
          ]
        }
      ],
      "source": [
        "import splitfolders\n",
        "def splitFolders(path):\n",
        "  splitfolders.ratio(path, output= path + \"output\",  ratio=(.75,.25), group_prefix=None) \n",
        "\n",
        "splitFolders(mainPath +'img_data/')"
      ]
    },
    {
      "cell_type": "code",
      "execution_count": null,
      "metadata": {
        "id": "A5wgZd3F8_Zh"
      },
      "outputs": [],
      "source": [
        "def makeDirectory(newPath):\n",
        "  try:\n",
        "    # os.mkdir(newPath)\n",
        "    for directoryName in directories:\n",
        "      os.mkdir(newPath + directoryName)\n",
        "  except:\n",
        "    print('File exists')\n",
        "makeDirectory(mainPath + 'img_data/')"
      ]
    },
    {
      "cell_type": "code",
      "execution_count": null,
      "metadata": {
        "colab": {
          "background_save": true,
          "base_uri": "https://localhost:8080/"
        },
        "id": "XoEfdny8rCPR",
        "outputId": "fe82b1f6-0834-4a00-c678-81d9e9bb9bed"
      },
      "outputs": [
        {
          "name": "stderr",
          "output_type": "stream",
          "text": [
            "/usr/local/lib/python3.7/dist-packages/matplotlib/axes/_axes.py:7592: RuntimeWarning: divide by zero encountered in log10\n",
            "  Z = 10. * np.log10(spec)\n"
          ]
        },
        {
          "data": {
            "text/plain": [
              "<Figure size 432x288 with 0 Axes>"
            ]
          },
          "metadata": {},
          "output_type": "display_data"
        }
      ],
      "source": [
        "import matplotlib.pyplot as plt\n",
        "def audioFeatureExtraction():\n",
        "  for directory in directories :\n",
        "    for filename in glob.glob(exp4Path + directory + '/**.wav'):\n",
        "        audiofile, sr = librosa.load(filename, sr = 11025, mono = True)\n",
        "        # fingerprint= mfcc(audiofile)\n",
        "        # mfcc_features.append(mfcc(audiofile))\n",
        "        plt.specgram(audiofile, NFFT=2048, Fs=2, Fc=0, noverlap=128, cmap='CMRmap', sides='default', mode='default', scale='dB');\n",
        "        plt.axis('off');\n",
        "        name = filename.split('/')[-1]\n",
        "        plt.savefig(f'{mainPath}img_data/{directory}/{name[:-3].replace(\".\", \"\")}.png')\n",
        "        plt.clf()\n",
        "  # mfcc_features = np.array(mfcc_features)\n",
        "  # y = np.array(y)\n",
        "\n",
        "  # return mfcc_features, y\n",
        "audioFeatureExtraction()"
      ]
    },
    {
      "cell_type": "markdown",
      "metadata": {
        "id": "3kPCeHA0felV"
      },
      "source": [
        ""
      ]
    },
    {
      "cell_type": "code",
      "execution_count": null,
      "metadata": {
        "id": "hpGam0Zt5iKO"
      },
      "outputs": [],
      "source": [
        "def exportClassificationReport(report, sheetName, directories):\n",
        "  df = pd.DataFrame(report).transpose()\n",
        "  df[''] = directories + ['accuracy', 'macro avg', 'weighted avg']\n",
        "  try:\n",
        "    spreedSheet.add_worksheet(title =sheetName, rows = 200, cols = 100)\n",
        "  except:\n",
        "    print('file exist')\n",
        "  reportSheet = spreedSheet.worksheet(sheetName)\n",
        "  set_with_dataframe(reportSheet, df) \n",
        "  # return df"
      ]
    },
    {
      "cell_type": "code",
      "execution_count": null,
      "metadata": {
        "colab": {
          "base_uri": "https://localhost:8080/"
        },
        "id": "PPi9eONC8Wbb",
        "outputId": "1dbb1be8-cba8-4134-ab55-955f3693a489"
      },
      "outputs": [
        {
          "output_type": "stream",
          "name": "stdout",
          "text": [
            "Found 5863 images belonging to 8 classes.\n",
            "Found 1957 images belonging to 8 classes.\n",
            "Image Processing.......Compleated\n"
          ]
        }
      ],
      "source": [
        "train_datagen = ImageDataGenerator(rescale = 1./255)\n",
        "training_set = train_datagen.flow_from_directory(mainPath +'img_data/output/train',\n",
        "                                                 target_size = (256, 256),\n",
        "                                                 batch_size = 64,\n",
        "                                                 class_mode = 'categorical')\n",
        "test_datagen = ImageDataGenerator(rescale = 1./255)\n",
        "test_set = test_datagen.flow_from_directory(mainPath +'img_data/output/val',\n",
        "                                            target_size = (256, 256),\n",
        "                                            batch_size = 64,\n",
        "                                            class_mode = 'categorical')\n",
        "print(\"Image Processing.......Compleated\")"
      ]
    },
    {
      "cell_type": "code",
      "execution_count": null,
      "metadata": {
        "id": "Fyk6nA1v88Ue",
        "colab": {
          "base_uri": "https://localhost:8080/"
        },
        "outputId": "1a915a52-da10-4f00-9c6e-d5fa3b338464"
      },
      "outputs": [
        {
          "output_type": "stream",
          "name": "stdout",
          "text": [
            "Building Neural Network.....\n",
            "Training cnn\n",
            "Epoch 1/50\n",
            "92/92 [==============================] - 582s 6s/step - loss: 1.8292 - accuracy: 0.3021 - val_loss: 1.4870 - val_accuracy: 0.4272\n",
            "Epoch 2/50\n",
            "92/92 [==============================] - 572s 6s/step - loss: 1.4004 - accuracy: 0.4667 - val_loss: 1.1803 - val_accuracy: 0.5416\n",
            "Epoch 3/50\n",
            "92/92 [==============================] - 594s 6s/step - loss: 1.1481 - accuracy: 0.5557 - val_loss: 0.9760 - val_accuracy: 0.6265\n",
            "Epoch 4/50\n",
            "92/92 [==============================] - 560s 6s/step - loss: 0.9653 - accuracy: 0.6244 - val_loss: 0.7949 - val_accuracy: 0.6811\n",
            "Epoch 5/50\n",
            "92/92 [==============================] - 558s 6s/step - loss: 0.8286 - accuracy: 0.6735 - val_loss: 0.7120 - val_accuracy: 0.7261\n",
            "Epoch 6/50\n",
            "92/92 [==============================] - 565s 6s/step - loss: 0.7384 - accuracy: 0.7164 - val_loss: 0.6575 - val_accuracy: 0.7624\n",
            "Epoch 7/50\n",
            "92/92 [==============================] - 562s 6s/step - loss: 0.6818 - accuracy: 0.7428 - val_loss: 0.5840 - val_accuracy: 0.7803\n",
            "Epoch 8/50\n",
            "92/92 [==============================] - 574s 6s/step - loss: 0.6178 - accuracy: 0.7650 - val_loss: 0.5266 - val_accuracy: 0.7997\n",
            "Epoch 9/50\n",
            "92/92 [==============================] - 564s 6s/step - loss: 0.5591 - accuracy: 0.7842 - val_loss: 0.4980 - val_accuracy: 0.8125\n",
            "Epoch 10/50\n",
            "92/92 [==============================] - 556s 6s/step - loss: 0.5201 - accuracy: 0.8069 - val_loss: 0.4856 - val_accuracy: 0.8196\n",
            "Epoch 11/50\n",
            "92/92 [==============================] - 556s 6s/step - loss: 0.4836 - accuracy: 0.8236 - val_loss: 0.4479 - val_accuracy: 0.8385\n",
            "Epoch 12/50\n",
            "92/92 [==============================] - 560s 6s/step - loss: 0.4285 - accuracy: 0.8404 - val_loss: 0.4159 - val_accuracy: 0.8472\n",
            "Epoch 13/50\n",
            "92/92 [==============================] - 558s 6s/step - loss: 0.3996 - accuracy: 0.8542 - val_loss: 0.4269 - val_accuracy: 0.8493\n",
            "Epoch 14/50\n",
            "92/92 [==============================] - 566s 6s/step - loss: 0.3633 - accuracy: 0.8733 - val_loss: 0.3862 - val_accuracy: 0.8717\n",
            "Epoch 15/50\n",
            "92/92 [==============================] - 562s 6s/step - loss: 0.3318 - accuracy: 0.8784 - val_loss: 0.3493 - val_accuracy: 0.8820\n",
            "Epoch 16/50\n",
            "92/92 [==============================] - 557s 6s/step - loss: 0.3080 - accuracy: 0.8914 - val_loss: 0.3468 - val_accuracy: 0.8830\n",
            "Epoch 17/50\n",
            "92/92 [==============================] - 557s 6s/step - loss: 0.2961 - accuracy: 0.8948 - val_loss: 0.3584 - val_accuracy: 0.8799\n",
            "Epoch 18/50\n",
            "92/92 [==============================] - 557s 6s/step - loss: 0.2631 - accuracy: 0.9055 - val_loss: 0.3565 - val_accuracy: 0.8891\n",
            "Epoch 19/50\n",
            "92/92 [==============================] - 555s 6s/step - loss: 0.2290 - accuracy: 0.9174 - val_loss: 0.3614 - val_accuracy: 0.8845\n",
            "Epoch 20/50\n",
            "92/92 [==============================] - 571s 6s/step - loss: 0.2176 - accuracy: 0.9222 - val_loss: 0.3204 - val_accuracy: 0.8952\n",
            "Epoch 21/50\n",
            "92/92 [==============================] - 573s 6s/step - loss: 0.1986 - accuracy: 0.9263 - val_loss: 0.3430 - val_accuracy: 0.8942\n",
            "Epoch 22/50\n",
            "92/92 [==============================] - 555s 6s/step - loss: 0.1837 - accuracy: 0.9311 - val_loss: 0.3426 - val_accuracy: 0.8973\n",
            "Epoch 23/50\n",
            "92/92 [==============================] - 557s 6s/step - loss: 0.1706 - accuracy: 0.9388 - val_loss: 0.3431 - val_accuracy: 0.8886\n",
            "Epoch 24/50\n",
            "92/92 [==============================] - 558s 6s/step - loss: 0.1515 - accuracy: 0.9485 - val_loss: 0.3288 - val_accuracy: 0.8958\n",
            "Epoch 25/50\n",
            "92/92 [==============================] - 556s 6s/step - loss: 0.1457 - accuracy: 0.9471 - val_loss: 0.3045 - val_accuracy: 0.9055\n",
            "Epoch 26/50\n",
            "92/92 [==============================] - 559s 6s/step - loss: 0.1288 - accuracy: 0.9545 - val_loss: 0.3270 - val_accuracy: 0.8937\n",
            "Epoch 27/50\n",
            "92/92 [==============================] - 566s 6s/step - loss: 0.1212 - accuracy: 0.9563 - val_loss: 0.2993 - val_accuracy: 0.9090\n",
            "Epoch 28/50\n",
            "92/92 [==============================] - 556s 6s/step - loss: 0.1117 - accuracy: 0.9592 - val_loss: 0.2950 - val_accuracy: 0.9096\n",
            "Epoch 29/50\n",
            "92/92 [==============================] - 555s 6s/step - loss: 0.1033 - accuracy: 0.9626 - val_loss: 0.3027 - val_accuracy: 0.9116\n",
            "Epoch 30/50\n",
            "92/92 [==============================] - 553s 6s/step - loss: 0.0971 - accuracy: 0.9647 - val_loss: 0.3424 - val_accuracy: 0.9080\n",
            "Epoch 31/50\n",
            "92/92 [==============================] - 555s 6s/step - loss: 0.0895 - accuracy: 0.9702 - val_loss: 0.3310 - val_accuracy: 0.9075\n",
            "Epoch 32/50\n",
            "92/92 [==============================] - 557s 6s/step - loss: 0.0806 - accuracy: 0.9676 - val_loss: 0.3160 - val_accuracy: 0.9152\n",
            "Epoch 33/50\n",
            "92/92 [==============================] - 565s 6s/step - loss: 0.0888 - accuracy: 0.9679 - val_loss: 0.3337 - val_accuracy: 0.9106\n"
          ]
        }
      ],
      "source": [
        "early_stopping = EarlyStopping(monitor='val_loss', mode =\"min\", patience = 5,  restore_best_weights = True)  \n",
        "cnn = tf.keras.models.Sequential()\n",
        "print(\"Building Neural Network.....\")\n",
        "cnn.add(tf.keras.layers.Conv2D(filters=16, kernel_size=3, activation='relu', input_shape=[256, 256, 3]))\n",
        "cnn.add(tf.keras.layers.MaxPool2D(pool_size=2, strides=2))\n",
        "cnn.add(tf.keras.layers.Conv2D(filters=32, kernel_size=4, activation='relu'))\n",
        "cnn.add(tf.keras.layers.MaxPool2D(pool_size=2, strides=2))\n",
        "cnn.add(tf.keras.layers.Conv2D(filters=64, kernel_size=4, activation='relu'))\n",
        "cnn.add(tf.keras.layers.MaxPool2D(pool_size=2, strides=2))\n",
        "cnn.add(tf.keras.layers.Conv2D(filters=128, kernel_size=4, activation='relu'))\n",
        "cnn.add(tf.keras.layers.MaxPool2D(pool_size=2, strides=2))\n",
        "cnn.add(tf.keras.layers.Flatten())\n",
        "cnn.add(tf.keras.layers.Dense(units=900, activation='relu'))\n",
        "cnn.add(tf.keras.layers.Dropout(0.5))\n",
        "cnn.add(tf.keras.layers.Dense(units=700, activation='relu'))\n",
        "cnn.add(tf.keras.layers.Dropout(0.3))\n",
        "cnn.add(tf.keras.layers.Dense(units=500, activation='relu'))\n",
        "cnn.add(tf.keras.layers.Dropout(0.2))\n",
        "cnn.add(tf.keras.layers.Dense(units=8, activation='softmax'))\n",
        "adam = tf.keras.optimizers.Adam(learning_rate=0.0001)\n",
        "cnn.compile(optimizer = adam, loss = 'categorical_crossentropy', metrics = ['accuracy'])\n",
        "print(\"Training cnn\")\n",
        "\n",
        "#######\n",
        "logFile=mainPath + 'logCNN2.csv'\n",
        "history_logger=tf.keras.callbacks.CSVLogger(logFile, separator=\",\", append=True)\n",
        "history = cnn.fit(x = training_set, validation_data = test_set, epochs = 50, callbacks=[early_stopping,history_logger])"
      ]
    },
    {
      "cell_type": "code",
      "execution_count": null,
      "metadata": {
        "colab": {
          "base_uri": "https://localhost:8080/",
          "height": 297
        },
        "id": "Cu8pD_RzlPvy",
        "outputId": "3252752b-13fa-470a-f989-7ca6ec48f4d9"
      },
      "outputs": [
        {
          "output_type": "stream",
          "name": "stdout",
          "text": [
            "INFO:tensorflow:Assets written to: ram://fe8f37b0-83e1-4034-99c7-704f98af8d33/assets\n"
          ]
        },
        {
          "output_type": "display_data",
          "data": {
            "image/png": "[encoded data removed]",
            "text/plain": [
              "<Figure size 432x288 with 1 Axes>"
            ]
          },
          "metadata": {
            "needs_background": "light"
          }
        }
      ],
      "source": [
        "import matplotlib.pyplot as plt\n",
        "import pickle\n",
        "\n",
        "plt.plot(history.history['loss'], label='loss')\n",
        "plt.plot(history.history['val_loss'], label = 'val_loss')\n",
        "plt.xlabel('Epoch')\n",
        "plt.ylabel('Accuracy')\n",
        "# plt.ylim([0.5, 1])\n",
        "plt.legend(loc='lower right')\n",
        "filename = mainPath + 'cnn.sav'\n",
        "pickle.dump(cnn, open(filename, 'wb'))"
      ]
    },
    {
      "cell_type": "code",
      "execution_count": null,
      "metadata": {
        "colab": {
          "base_uri": "https://localhost:8080/"
        },
        "id": "horYMgsKHfmJ",
        "outputId": "dcabc169-a8bc-459d-e0de-92ab70ffa2c3"
      },
      "outputs": [
        {
          "output_type": "stream",
          "name": "stdout",
          "text": [
            "Found 1957 images belonging to 8 classes.\n"
          ]
        }
      ],
      "source": [
        "test_datagen = ImageDataGenerator(rescale = 1./255)\n",
        "test_set1 = test_datagen.flow_from_directory(mainPath +'img_data/output/val',\n",
        "                                            target_size = (256, 256),\n",
        "                                            batch_size = 64,\n",
        "                                            class_mode = None,\n",
        "                                            shuffle=False)\n",
        "filename = mainPath + 'cnn.sav'\n",
        "\n",
        "cnn2 = pickle.load(open(filename, 'rb'))\n"
      ]
    },
    {
      "cell_type": "code",
      "execution_count": null,
      "metadata": {
        "colab": {
          "base_uri": "https://localhost:8080/"
        },
        "id": "CJeedBSjs7eq",
        "outputId": "e01ed75c-e64f-4c04-8cdc-5bab22e19dd8"
      },
      "outputs": [
        {
          "output_type": "stream",
          "name": "stdout",
          "text": [
            "Hungry 0\n",
            "Sleepy 1\n",
            "Uncomfortable 2\n",
            "asphyxia 3\n",
            "burp up 4\n",
            "lower gas 5\n",
            "normal 6\n",
            "pain 7\n"
          ]
        }
      ],
      "source": [
        "y_test=[]\n",
        "i = 0\n",
        "directories=['Hungry','Sleepy','Uncomfortable','asphyxia','burp up','lower gas','normal','pain']\n",
        "for directory in directories :\n",
        "    print(directory, i) \n",
        "    for filename in glob.glob(mainPath +'img_data/output/val/' + directory + '/**.png'):\n",
        "      # print(filename, i)\n",
        "      y_test.append(i)\n",
        "    i = i+1\n",
        "# df = pd.DataFrame(y_test)\n",
        "# df.to_csv(mainPath + 'y_test.csv')"
      ]
    },
    {
      "cell_type": "code",
      "execution_count": null,
      "metadata": {
        "id": "E0vuw9OIa1ZB"
      },
      "outputs": [],
      "source": [
        "from tensorflow.keras.applications.resnet50 import preprocess_input, decode_predictions\n",
        "\n",
        "predict_y = cnn2.predict(test_set1)\n"
      ]
    },
    {
      "cell_type": "code",
      "execution_count": null,
      "metadata": {
        "colab": {
          "base_uri": "https://localhost:8080/"
        },
        "id": "U4uOe-4HcM5p",
        "outputId": "d1220cf2-6194-4f95-8ce4-ad3bbf487f9f"
      },
      "outputs": [
        {
          "output_type": "stream",
          "name": "stdout",
          "text": [
            "[9.7607976e-01 4.6583856e-03 1.6666165e-02 1.0043973e-06 1.7178266e-03\n",
            " 7.9245743e-04 3.4970573e-05 4.9424947e-05] 2 2\n"
          ]
        },
        {
          "output_type": "execute_result",
          "data": {
            "text/plain": [
              "{'0': {'f1-score': 0.8339973439575034,\n",
              "  'precision': 0.8532608695652174,\n",
              "  'recall': 0.8155844155844156,\n",
              "  'support': 385},\n",
              " '1': {'f1-score': 0.8997668997668998,\n",
              "  'precision': 0.8616071428571429,\n",
              "  'recall': 0.9414634146341463,\n",
              "  'support': 205},\n",
              " '2': {'f1-score': 0.8267477203647416,\n",
              "  'precision': 0.8717948717948718,\n",
              "  'recall': 0.7861271676300579,\n",
              "  'support': 173},\n",
              " '3': {'f1-score': 0.978085351787774,\n",
              "  'precision': 0.9976470588235294,\n",
              "  'recall': 0.9592760180995475,\n",
              "  'support': 442},\n",
              " '4': {'f1-score': 0.8636363636363636,\n",
              "  'precision': 0.8321167883211679,\n",
              "  'recall': 0.8976377952755905,\n",
              "  'support': 127},\n",
              " '5': {'f1-score': 0.8669950738916257,\n",
              "  'precision': 0.8380952380952381,\n",
              "  'recall': 0.8979591836734694,\n",
              "  'support': 98},\n",
              " '6': {'f1-score': 0.9758064516129031,\n",
              "  'precision': 0.952755905511811,\n",
              "  'recall': 1.0,\n",
              "  'support': 242},\n",
              " '7': {'f1-score': 0.9144851657940664,\n",
              "  'precision': 0.9097222222222222,\n",
              "  'recall': 0.9192982456140351,\n",
              "  'support': 285},\n",
              " 'accuracy': 0.9059785385794583,\n",
              " 'macro avg': {'f1-score': 0.8949400463514847,\n",
              "  'precision': 0.8896250121489,\n",
              "  'recall': 0.9021682800639077,\n",
              "  'support': 1957},\n",
              " 'weighted avg': {'f1-score': 0.905622402633612,\n",
              "  'precision': 0.9067784056239903,\n",
              "  'recall': 0.9059785385794583,\n",
              "  'support': 1957}}"
            ]
          },
          "metadata": {},
          "execution_count": 41
        }
      ],
      "source": [
        "predicted_classes = np.argmax(np.round(predict_y),axis=1)\n",
        "print(predict_y[200],y_test[700], predicted_classes[700])\n",
        "# from sklearn.metrics import accuracy_score, classification_report\n",
        "directories=['Hungry','Sleepy','Uncomfortable','asphyxia','burp up','lower gas','normal','pain']\n",
        "\n",
        "report = classification_report( predicted_classes,y_test,output_dict=True)\n",
        "# exportClassificationReport(report, 'CNN-Final', directories)\n",
        "\n",
        "# test_set.filenames[1000:]\n",
        "# predicted_classes\n",
        "report\n"
      ]
    },
    {
      "cell_type": "code",
      "source": [
        "import matplotlib.pyplot as plt\n",
        "from keras.applications.vgg16 import preprocess_input\n",
        "classes=['Hungry','Sleepy','Uncomfortable','asphyxia','burp up','lower gas','normal','pain']\n",
        "filename = mainPath + 'cnn.sav'\n",
        "cnn2 = pickle.load(open(filename, 'rb'))\n",
        "from keras.preprocessing.image import load_img, img_to_array"
      ],
      "metadata": {
        "id": "OBD1kosOWSGl"
      },
      "execution_count": null,
      "outputs": []
    },
    {
      "cell_type": "code",
      "source": [
        "def predictAudio(audio):\n",
        "  audiofile, sr = librosa.load(audio, sr = 11025, mono = True)\n",
        "  plt.specgram(audiofile, NFFT=2048, Fs=2, Fc=0, noverlap=128, cmap='CMRmap', sides='default', mode='default', scale='dB');\n",
        "  plt.axis('off');\n",
        "  name = audio.split('/')[-1]\n",
        "  filaname = f'{mainPath}predictedImage/{name[:-3].replace(\".\", \"\")}.png'\n",
        "  plt.savefig(filaname)\n",
        "\n",
        "  my_image = load_img(filaname, target_size=(256, 256))\n",
        "  my_image = img_to_array(my_image)\n",
        "  my_image = my_image.reshape((1, my_image.shape[0], my_image.shape[1], my_image.shape[2]))\n",
        "  # my_image = preprocess_input(my_image)\n",
        "\n",
        "  y = cnn2.predict(my_image)\n",
        "  predicted_class = np.argmax(np.round(y),axis=1)[0]\n",
        "  return classes[predicted_class]\n",
        "\n",
        "y = predictAudio(exp4Path + 'output/val/normal/0078006000.wav')\n",
        "y"
      ],
      "metadata": {
        "colab": {
          "base_uri": "https://localhost:8080/",
          "height": 266
        },
        "id": "p4M1zqeFaF0f",
        "outputId": "d5136691-5ec2-4d42-8022-68a3b07d9cf1"
      },
      "execution_count": null,
      "outputs": [
        {
          "output_type": "execute_result",
          "data": {
            "application/vnd.google.colaboratory.intrinsic+json": {
              "type": "string"
            },
            "text/plain": [
              "'normal'"
            ]
          },
          "metadata": {},
          "execution_count": 65
        },
        {
          "output_type": "display_data",
          "data": {
            "image/png": "[encoded data removed]",
            "text/plain": [
              "<Figure size 432x288 with 1 Axes>"
            ]
          },
          "metadata": {
            "needs_background": "light"
          }
        }
      ]
    }
  ],
  "metadata": {
    "colab": {
      "collapsed_sections": [],
      "name": "deepLearningCryCare.ipynb",
      "provenance": [],
      "include_colab_link": true
    },
    "kernelspec": {
      "display_name": "Python 3",
      "name": "python3"
    },
    "language_info": {
      "name": "python"
    }
  },
  "nbformat": 4,
  "nbformat_minor": 0
}