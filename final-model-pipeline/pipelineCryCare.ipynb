{
  "nbformat": 4,
  "nbformat_minor": 0,
  "metadata": {
    "colab": {
      "name": "pipelineCryCare.ipynb",
      "provenance": [],
      "authorship_tag": "ABX9TyNAKNRvmMozTgwdJUCF7xDA",
      "include_colab_link": true
    },
    "kernelspec": {
      "name": "python3",
      "display_name": "Python 3"
    },
    "language_info": {
      "name": "python"
    }
  },
  "cells": [
    {
      "cell_type": "markdown",
      "metadata": {
        "id": "view-in-github",
        "colab_type": "text"
      },
      "source": [
        "<a href=\"https://colab.research.google.com/github/motazsaad/infant-cry-care/blob/main/pipelineCryCare.ipynb\" target=\"_parent\"><img src=\"https://colab.research.google.com/assets/colab-badge.svg\" alt=\"Open In Colab\"/></a>"
      ]
    },
    {
      "cell_type": "code",
      "execution_count": null,
      "metadata": {
        "colab": {
          "base_uri": "https://localhost:8080/"
        },
        "id": "BmyhYXNNh8Ez",
        "outputId": "603b5351-e701-4cdd-d434-5f7edec47a55"
      },
      "outputs": [
        {
          "output_type": "stream",
          "name": "stdout",
          "text": [
            "Mounted at /content/drive\n"
          ]
        }
      ],
      "source": [
        "from google.colab import drive\n",
        "drive.mount('/content/drive')"
      ]
    },
    {
      "cell_type": "code",
      "source": [
        "from google.colab import auth\n",
        "auth.authenticate_user()\n",
        "import gspread\n",
        "from oauth2client.client import GoogleCredentials as GC\n",
        "gc = gspread.authorize(GC.get_application_default())\n",
        "title = 'CryCareSheet'\n",
        "spreedSheet = gc.open(title)\n",
        "audioContSheet = spreedSheet.sheet1"
      ],
      "metadata": {
        "id": "HcFWRT6aiZXR"
      },
      "execution_count": null,
      "outputs": []
    },
    {
      "cell_type": "code",
      "source": [
        "import glob\n",
        "import subprocess\n",
        "import os\n",
        "import pandas as pd\n",
        "import librosa \n",
        "import numpy as np\n",
        "from sklearn.ensemble import RandomForestClassifier\n",
        "from sklearn.linear_model import LogisticRegression\n",
        "from sklearn.tree import DecisionTreeClassifier\n",
        "from sklearn.svm import SVC\n",
        "from sklearn.metrics import accuracy_score, classification_report\n",
        "from sklearn.metrics import confusion_matrix, precision_score, recall_score\n",
        "from sklearn.metrics import classification_report\n",
        "from sklearn.model_selection import train_test_split\n",
        "from gspread_dataframe import set_with_dataframe\n",
        "import IPython.display as ipd\n",
        "import tensorflow\n",
        "import pickle\n",
        "\n",
        "\n",
        "mainPath = '/content/drive/MyDrive/CryCareDataset/'\n",
        "originDataPath = mainPath + 'Dataset/'\n",
        "oneSecDataPath = mainPath + 'oneSecDataset/'\n",
        "onSilencePath = mainPath + 'onSilence/'\n",
        "donateACryPath = mainPath + 'donateacry/'\n",
        "generatedData = mainPath + 'generatedData/'\n",
        "exp1Path = mainPath + 'generatedData/Exp1/'\n",
        "exp2Path = mainPath + 'generatedData/Exp2/'\n",
        "exp3Path = mainPath + 'generatedData/Exp3/'\n",
        "exp4Path = mainPath + 'generatedData/Exp4/'\n",
        "exp5Path = mainPath + 'generatedData/Exp5/'\n",
        "exp6Path = mainPath + 'generatedData/Exp6/'\n",
        "exp7Path = mainPath + 'generatedData/Exp7/'\n",
        "\n",
        "# directories = ['Hungry', 'lower gas', 'burp up', 'normal','pain','asphyxia', 'Uncomfortable', 'Sleepy'] \n",
        "# directories = ['Hungry', 'lower gas', 'burp up', 'Uncomfortable', 'Sleepy'] \n",
        "directories = ['Hungry', 'lower gas', 'burp up', 'normal','pain','asphyxia', 'Uncomfortable', 'Sleepy'] "
      ],
      "metadata": {
        "id": "DkR_XKgYieR1"
      },
      "execution_count": null,
      "outputs": []
    },
    {
      "cell_type": "code",
      "source": [
        "def audioFeatureExtraction(raw_audio):\n",
        "  X = pd.DataFrame(columns = np.arange(45), dtype = 'float32').astype(np.float32)\n",
        "  for i, filename in enumerate(raw_audio):\n",
        "      if filename.endswith(\".wav\"):\n",
        "          audiofile, sr = librosa.load(filename, sr = 11025)\n",
        "          fingerprint= librosa.feature.spectral_centroid(audiofile, \n",
        "                                            sr=sr)\n",
        "          x = pd.DataFrame(fingerprint, dtype = 'float32')\n",
        "          x[44] = raw_audio[filename]\n",
        "          X.loc[i] = x.loc[0]\n",
        "  X = X.fillna(0)\n",
        "  y = X[44]\n",
        "  del X[44]\n",
        "  X = X.astype(np.float32)\n",
        "  return X, y"
      ],
      "metadata": {
        "id": "tE4aKyfUjHE-"
      },
      "execution_count": null,
      "outputs": []
    },
    {
      "cell_type": "code",
      "source": [
        "def exportClassificationReport(report, sheetName, directories):\n",
        "  df = pd.DataFrame(report).transpose()\n",
        "  df[''] = directories + ['accuracy', 'macro avg', 'weighted avg']\n",
        "  try:\n",
        "    spreedSheet.add_worksheet(title =sheetName, rows = 200, cols = 100)\n",
        "  except:\n",
        "    print('file exist')\n",
        "  reportSheet = spreedSheet.worksheet(sheetName)\n",
        "  set_with_dataframe(reportSheet, df) \n",
        "  # return df"
      ],
      "metadata": {
        "id": "hpGam0Zt5iKO"
      },
      "execution_count": null,
      "outputs": []
    },
    {
      "cell_type": "code",
      "source": [
        "def createRawAudio(path, directories) :\n",
        "  print(path)\n",
        "  raw_audio = dict()\n",
        "  for directory in directories :\n",
        "    for filename in glob.glob(path + directory + '/**.wav'):\n",
        "      raw_audio[filename] = directory\n",
        "  return raw_audio"
      ],
      "metadata": {
        "id": "dPUESrM8lAUQ"
      },
      "execution_count": null,
      "outputs": []
    },
    {
      "cell_type": "code",
      "source": [
        "def makeModel(path, classifier, rawAudioFunction, directories):\n",
        "  raw_audio_test = rawAudioFunction(path + 'output/val/', directories)\n",
        "  X_test, y_test = audioFeatureExtraction(raw_audio_test)\n",
        "\n",
        "  return  X_test, y_test \n",
        "  #  model = get_scores(classifier, X_train, X_test, y_train, y_test)\n",
        "  # return (model)\n",
        "\n",
        "X_test, y_test  = makeModel(exp4Path,  RandomForestClassifier, createRawAudio, directories)"
      ],
      "metadata": {
        "colab": {
          "base_uri": "https://localhost:8080/"
        },
        "id": "wLuJLDpdi4i4",
        "outputId": "00f99f96-2fe7-49e5-94c7-604918bc1005"
      },
      "execution_count": null,
      "outputs": [
        {
          "output_type": "stream",
          "name": "stdout",
          "text": [
            "/content/drive/MyDrive/CryCareDataset/generatedData/Exp4/output/val/\n"
          ]
        }
      ]
    },
    {
      "cell_type": "code",
      "source": [
        "asphyxia_model_file = mainPath + 'asphyxia_model.sav'\n",
        "hungry_model_file = mainPath + 'hungry_model.sav'\n",
        "final_model_file = mainPath + 'final_model.sav'\n",
        "\n",
        "asphyxia_model = pickle.load(open(asphyxia_model_file, 'rb'))\n",
        "hungry_model = pickle.load(open(hungry_model_file, 'rb'))\n",
        "final_model = pickle.load(open(final_model_file, 'rb'))"
      ],
      "metadata": {
        "id": "5FiUGEVeoMbc"
      },
      "execution_count": null,
      "outputs": []
    },
    {
      "cell_type": "code",
      "source": [
        "y_predict=[]\n",
        "for i in range(len(X_test)):\n",
        "\n",
        "    result =  asphyxia_model.predict(X_test.iloc[[i]])\n",
        "    if result == 'Not asphyxia':\n",
        "      result2 = hungry_model.predict(X_test.iloc[[i]])\n",
        "      if result2 =='Not Hungry':\n",
        "        result3 = final_model.predict(X_test.iloc[[i]])\n",
        "        y_predict.append(result3[0])\n",
        "      else:\n",
        "        y_predict.append(result2[0])\n",
        "    else:\n",
        "      y_predict.append(result[0])"
      ],
      "metadata": {
        "id": "D_fPNVODivWF"
      },
      "execution_count": null,
      "outputs": []
    },
    {
      "cell_type": "code",
      "source": [
        "report = classification_report(y_test, pd.DataFrame(y_predict), target_names=directories, output_dict=True)\n",
        "exportClassificationReport(report, 'pipeline_model2', directories)\n",
        "print(report)"
      ],
      "metadata": {
        "colab": {
          "base_uri": "https://localhost:8080/"
        },
        "id": "K3QZSQGMs1Zs",
        "outputId": "2a0148c3-8fe4-456b-c8a1-e6fd73ef6264"
      },
      "execution_count": null,
      "outputs": [
        {
          "output_type": "stream",
          "name": "stdout",
          "text": [
            "{'Hungry': {'precision': 0.797153024911032, 'recall': 0.6086956521739131, 'f1-score': 0.6902927580893683, 'support': 368}, 'lower gas': {'precision': 0.625531914893617, 'recall': 0.786096256684492, 'f1-score': 0.6966824644549764, 'support': 187}, 'burp up': {'precision': 0.6038961038961039, 'recall': 0.7153846153846154, 'f1-score': 0.6549295774647886, 'support': 130}, 'normal': {'precision': 0.8518518518518519, 'recall': 0.6494117647058824, 'f1-score': 0.7369826435246997, 'support': 425}, 'pain': {'precision': 0.6506024096385542, 'recall': 0.5510204081632653, 'f1-score': 0.5966850828729281, 'support': 98}, 'asphyxia': {'precision': 0.7076923076923077, 'recall': 0.6133333333333333, 'f1-score': 0.657142857142857, 'support': 75}, 'Uncomfortable': {'precision': 0.5468277945619335, 'recall': 0.7125984251968503, 'f1-score': 0.6188034188034187, 'support': 254}, 'Sleepy': {'precision': 0.618421052631579, 'recall': 0.7833333333333333, 'f1-score': 0.6911764705882353, 'support': 240}, 'accuracy': 0.6803601575689364, 'macro avg': {'precision': 0.6752470575096223, 'recall': 0.6774842236219607, 'f1-score': 0.667836909117659, 'support': 1777}, 'weighted avg': {'precision': 0.7062586288507081, 'recall': 0.6803601575689364, 'f1-score': 0.6828841295007845, 'support': 1777}}\n"
          ]
        }
      ]
    }
  ]
}